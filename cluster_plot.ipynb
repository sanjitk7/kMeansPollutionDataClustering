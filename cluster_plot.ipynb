{
 "cells": [
  {
   "cell_type": "code",
   "execution_count": 14,
   "metadata": {},
   "outputs": [],
   "source": [
    "import clustering_main"
   ]
  },
  {
   "cell_type": "code",
   "execution_count": 15,
   "metadata": {},
   "outputs": [
    {
     "name": "stdout",
     "output_type": "stream",
     "text": [
      "Prev in diff : [(13, 79), (7, 85), (16, 35)] Curr in diff  [(6, 65), (5, 95), (6, 38)]\n",
      "(7, 14)\n",
      "(2, -10)\n",
      "(10, -3)\n",
      "Prev in diff : [(6, 65), (5, 95), (6, 38)] Curr in diff  [(6, 65), (5, 95), (6, 38)]\n",
      "(0, 0)\n",
      "(0, 0)\n",
      "(0, 0)\n"
     ]
    }
   ],
   "source": [
    "cluster_dict_1,cen=clustering_main.main(3)"
   ]
  },
  {
   "cell_type": "code",
   "execution_count": 16,
   "metadata": {},
   "outputs": [
    {
     "name": "stdout",
     "output_type": "stream",
     "text": [
      "{0: [(6, 63), (2, 73), (10, 63), (10, 63), (4, 62)], 1: [(8, 81), (1, 103), (4, 100), (5, 105), (5, 104), (3, 85), (6.5, 85)], 2: [(7, 39), (5, 38)]}\n"
     ]
    }
   ],
   "source": [
    "print(cluster_dict_1)"
   ]
  },
  {
   "cell_type": "code",
   "execution_count": 17,
   "metadata": {},
   "outputs": [],
   "source": [
    "import numpy as np\n",
    "import matplotlib.pyplot as plt"
   ]
  },
  {
   "cell_type": "code",
   "execution_count": 18,
   "metadata": {},
   "outputs": [],
   "source": [
    "colors=[\"#0000FF\", \"#00FF00\",\"#FF0000\",\"#000000\",\"#A52A2A\",\"#2F4F4F\",\"#5F9EA0\",\"#808000\",\"#FFA500\"]"
   ]
  },
  {
   "cell_type": "code",
   "execution_count": 23,
   "metadata": {},
   "outputs": [
    {
     "data": {
      "image/png": "[encoded data removed]",
      "text/plain": [
       "<Figure size 432x288 with 1 Axes>"
      ]
     },
     "metadata": {
      "needs_background": "light"
     },
     "output_type": "display_data"
    }
   ],
   "source": [
    "plt.scatter(*zip(*cluster_dict_1[0]), color=colors[0])\n",
    "plt.scatter(*zip(*cluster_dict_1[1]), color=colors[1])\n",
    "plt.scatter(*zip(*cluster_dict_1[2]), color=colors[2])\n",
    "plt.scatter(*zip(*cen),marker='x',color=\"#000000\")\n",
    "plt.title('SO2 cluster')\n",
    "plt.xlabel('Population in millions')\n",
    "plt.ylabel('SO2 in ppm')\n",
    "plt.show()"
   ]
  },
  {
   "cell_type": "code",
   "execution_count": null,
   "metadata": {},
   "outputs": [],
   "source": []
  },
  {
   "cell_type": "code",
   "execution_count": null,
   "metadata": {},
   "outputs": [],
   "source": []
  },
  {
   "cell_type": "code",
   "execution_count": null,
   "metadata": {},
   "outputs": [],
   "source": []
  },
  {
   "cell_type": "code",
   "execution_count": null,
   "metadata": {},
   "outputs": [],
   "source": []
  }
 ],
 "metadata": {
  "kernelspec": {
   "display_name": "Python 3",
   "language": "python",
   "name": "python3"
  },
  "language_info": {
   "codemirror_mode": {
    "name": "ipython",
    "version": 3
   },
   "file_extension": ".py",
   "mimetype": "text/x-python",
   "name": "python",
   "nbconvert_exporter": "python",
   "pygments_lexer": "ipython3",
   "version": "3.7.1"
  }
 },
 "nbformat": 4,
 "nbformat_minor": 2
}
