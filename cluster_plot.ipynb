{
 "cells": [
  {
   "cell_type": "code",
   "execution_count": 1,
   "metadata": {},
   "outputs": [],
   "source": [
    "import clustering_main\n",
    "import input_data_processing\n",
    "import clustering_result"
   ]
  },
  {
   "cell_type": "code",
   "execution_count": 2,
   "metadata": {},
   "outputs": [],
   "source": [
    "k=7"
   ]
  },
  {
   "cell_type": "code",
   "execution_count": 3,
   "metadata": {},
   "outputs": [],
   "source": [
    "pop_pm,population_dict=input_data_processing.prep_data()"
   ]
  },
  {
   "cell_type": "code",
   "execution_count": 4,
   "metadata": {},
   "outputs": [],
   "source": [
    "cluster_dict_1,cen=clustering_main.main(k,pop_pm)"
   ]
  },
  {
   "cell_type": "code",
   "execution_count": 5,
   "metadata": {},
   "outputs": [
    {
     "name": "stdout",
     "output_type": "stream",
     "text": [
      "{0: [(5577940, 77), (4467797, 95), (4646732, 45), (4496694, 153)], 1: [(957352, 94), (961587, 118), (1010087, 208), (1286678, 79), (1162472, 206), (1073427, 202), (887446, 57), (1069276, 346), (1055525, 75), (951558, 83), (1132383, 210), (862196, 148), (1033918, 179), (1017865, 49), (831038, 60), (1112544, 287), (1305429, 129), (1198491, 140), (1077075, 186)], 2: [(1684222, 196), (1670806, 141), (1414050, 170), (1798218, 127), (1964086, 139), (1486053, 94), (1841488, 60), (1618879, 246), (1585704, 174), (1648643, 244)], 3: [(2405665, 57), (3124458, 89), (3046163, 234), (2765348, 260), (2817105, 215)], 4: [(169578, 64), (174164, 54), (172878, 57), (220257, 64), (101520, 70), (184000, 53), (177658, 116), (228832, 149), (200827, 238)], 5: [(529308, 101), (631364, 149), (488292, 72), (499486, 31), (601574, 63), (752490, 51), (515215, 54), (646801, 117), (460468, 146), (549283, 126), (506937, 121), (537149, 157), (550564, 79), (606007, 57), (603797, 205), (507293, 96), (642381, 139), (703345, 207), (578420, 197), (564491, 105), (566937, 108)], 6: [(325985, 58), (430214, 74), (363210, 84), (349033, 43), (432097, 54), (289438, 100), (273357, 120), (321036, 173), (382754, 144), (285349, 123), (291822, 29), (355823, 80), (273217, 97), (405164, 104), (315310, 152), (451735, 212), (349336, 220)]}\n"
     ]
    }
   ],
   "source": [
    "print(cluster_dict_1)"
   ]
  },
  {
   "cell_type": "code",
   "execution_count": 6,
   "metadata": {},
   "outputs": [],
   "source": [
    "import numpy as np\n",
    "import matplotlib.pyplot as plt"
   ]
  },
  {
   "cell_type": "code",
   "execution_count": 21,
   "metadata": {},
   "outputs": [],
   "source": [
    "colors=[\"#0000FF\", \"#00FF00\",\"#FF0000\",\"#FFFF00\",\"#A52A2A\",\"#2F4F4F\",\"#5F9EA0\",\"#808000\",\"#FFA500\",\"#F9D045\",\"#54FEDA\"]"
   ]
  },
  {
   "cell_type": "code",
   "execution_count": 35,
   "metadata": {
    "scrolled": true
   },
   "outputs": [
    {
     "data": {
      "image/png": "[encoded data removed]",
      "text/plain": [
       "<Figure size 432x288 with 1 Axes>"
      ]
     },
     "metadata": {
      "needs_background": "light"
     },
     "output_type": "display_data"
    },
    {
     "data": {
      "text/plain": [
       "<Figure size 36000x756 with 0 Axes>"
      ]
     },
     "metadata": {},
     "output_type": "display_data"
    }
   ],
   "source": [
    "fig,ax=plt.subplots()\n",
    "for i in range(k):\n",
    "    ax.scatter(*zip(*cluster_dict_1[i]), color=colors[i],label='ctr #'+str(i))\n",
    "plt.scatter(*zip(*cen),marker='x',color=\"#000000\")\n",
    "ax.legend()\n",
    "plt.title('SO2 cluster')\n",
    "plt.xlabel('Population in millions')\n",
    "plt.ylabel('SO2 in ppm')\n",
    "plt.show()\n",
    "fig = plt.gcf()\n",
    "fig.set_size_inches(50, 10.5)\n",
    "fig.savefig('test2png.png', dpi=100)"
   ]
  },
  {
   "cell_type": "code",
   "execution_count": 39,
   "metadata": {},
   "outputs": [],
   "source": [
    "cluster_dict_result=clustering_result.result(cluster_dict_1,population_dict)"
   ]
  },
  {
   "cell_type": "code",
   "execution_count": 41,
   "metadata": {},
   "outputs": [
    {
     "name": "stdout",
     "output_type": "stream",
     "text": [
      "{0: ['Ahmedabad', 'Surat', 'Chennai', 'Kolkata'], 1: ['Guwahati', 'Chandigarh', 'Raipur', 'Rajkot', 'Dhanbad', 'Ranchi', 'Mysore', 'Gwalior', 'Jabalpur', 'Solapur', 'Amritsar', 'Jalandhar', 'Jodhpur', 'Madurai', 'Salem', 'Allahabad', 'Meerut', 'Varanasi', 'Howrah'], 2: ['Patna', 'Vadodara', 'Faridabad', 'Bhopal', 'Indore', 'Nashik', 'Thane', 'Ludhiana', 'Agra', 'Ghaziabad'], 3: ['Nagpur', 'Pune', 'Jaipur', 'Kanpur', 'Lucknow'], 4: ['Shimla', 'Alappuzha', 'Kottayam', 'Singrauli', 'Aurangabad', 'Sambalpur', 'Unnao', 'Haridwar', 'Haldia'], 5: ['Jamnagar', 'Jamshedpur', 'Belgaum', 'Mangalore', 'Kochi', 'Thiruvananthapuram', 'Ujjain', 'Amravati', 'Jalgaon', 'Kolhapur', 'Ulhasnagar', 'Akola', 'Nanded', 'Cuttack', 'Firozabad', 'Jhansi', 'Noida', 'Saharanpur', 'Dehradun', 'Asansol', 'Durgapur'], 6: ['Kakinada', 'Kurnool', 'Korba', 'Kollam', 'Kozhikode', 'Dewas', 'Sagar', 'Chandrapur', 'Latur', 'Jalna', 'Aizawl', 'Berhampur', 'Rourkela', 'Patiala', 'Alwar', 'Udaipur', 'Mathura']}\n"
     ]
    }
   ],
   "source": [
    "print(cluster_dict_result)"
   ]
  },
  {
   "cell_type": "code",
   "execution_count": null,
   "metadata": {},
   "outputs": [],
   "source": []
  }
 ],
 "metadata": {
  "kernelspec": {
   "display_name": "Python 3",
   "language": "python",
   "name": "python3"
  },
  "language_info": {
   "codemirror_mode": {
    "name": "ipython",
    "version": 3
   },
   "file_extension": ".py",
   "mimetype": "text/x-python",
   "name": "python",
   "nbconvert_exporter": "python",
   "pygments_lexer": "ipython3",
   "version": "3.7.1"
  }
 },
 "nbformat": 4,
 "nbformat_minor": 2
}
